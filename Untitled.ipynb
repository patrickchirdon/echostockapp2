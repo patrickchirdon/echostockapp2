{
 "cells": [
  {
   "cell_type": "code",
   "execution_count": 14,
   "id": "a3347fd5",
   "metadata": {},
   "outputs": [
    {
     "name": "stdout",
     "output_type": "stream",
     "text": [
      "<table border=\"1\" class=\"dataframe\">\n",
      "  <thead>\n",
      "    <tr style=\"text-align: right;\">\n",
      "      <th></th>\n",
      "      <th>datetime</th>\n",
      "      <th>headline</th>\n",
      "      <th>source</th>\n",
      "      <th>url</th>\n",
      "      <th>summary</th>\n",
      "      <th>related</th>\n",
      "      <th>image</th>\n",
      "      <th>lang</th>\n",
      "      <th>hasPaywall</th>\n",
      "    </tr>\n",
      "  </thead>\n",
      "  <tbody>\n",
      "    <tr>\n",
      "      <th>0</th>\n",
      "      <td>2022-07-10 16:22:41</td>\n",
      "      <td>Apple’s 10.2-inch iPad is back on sale for $299 | Engadget</td>\n",
      "      <td>Newslanes</td>\n",
      "      <td>https://cloud.iexapis.com/v1/news/article/3rmewksVV2cN4sSoEjG3KQ9wF7AVU9CXunqbusPNqcK3</td>\n",
      "      <td>Amazon’s annual Prime Day sale may not begin until next week, but you can already find a handful of deals on electronics like the 10.2-inch iPad. This weekend, the retailer has discounted both the 64GB and 256GB variants of Apple’s entry-level tablet. You can now buy the base model 10.2-inch iPad – in both silver […] Apple’s 10.2-inch iPad is back on sale for $299 | Engadget</td>\n",
      "      <td>AAPL,AMZN</td>\n",
      "      <td>https://cloud.iexapis.com/v1/news/image/3rmewksVV2cN4sSoEjG3KQ9wF7AVU9CXunqbusPNqcK3</td>\n",
      "      <td>en</td>\n",
      "      <td>False</td>\n",
      "    </tr>\n",
      "    <tr>\n",
      "      <th>1</th>\n",
      "      <td>2022-07-10 15:46:02</td>\n",
      "      <td>Apple’s 10.2-inch iPad is back on sale for $299</td>\n",
      "      <td>Techtelegraph</td>\n",
      "      <td>https://cloud.iexapis.com/v1/news/article/3ZcECuvheSHHJ8LcuEEgddIwjBvIKK5bwGdgqoMJTzuq</td>\n",
      "      <td>Amazon’s annual Prime Day sale may not begin until next week, but you can already find a handful of deals on electronics like the 10.2-inch iPad. This weekend, the retailer has discounted both the 64GB and 256GB variants of Apple’s entry-level tablet. You can now buy the base model 10.2-inch iPad – in both silver […] The post Apple’s 10.2-inch iPad is back on sale for $299 appeared first on TECHTELEGRAPH .</td>\n",
      "      <td>AAPL,AMZN</td>\n",
      "      <td>https://cloud.iexapis.com/v1/news/image/3ZcECuvheSHHJ8LcuEEgddIwjBvIKK5bwGdgqoMJTzuq</td>\n",
      "      <td>en</td>\n",
      "      <td>False</td>\n",
      "    </tr>\n",
      "    <tr>\n",
      "      <th>2</th>\n",
      "      <td>2022-07-10 15:21:44</td>\n",
      "      <td>Apple''s 10.2-inch iPad is back on sale for $299</td>\n",
      "      <td>Engadget</td>\n",
      "      <td>https://cloud.iexapis.com/v1/news/article/1kgJZsWpnwC0BHrRQTut7BpfEs9m7JHRWsvNp3GEnZi2</td>\n",
      "      <td>Amazon’s annual Prime Day sale may not begin until next week, but you can already find a handful of deals on electronics like the 10.2-inch iPad . This weekend, the retailer has discounted both the 64GB and 256GB variants of Apple’s entry-level tablet. You can now buy the base model 10.2-inch iPad – in both silver and space gray – for $299. A $30 discount off may not seem like much, but it effectively returns the iPad to its lowest price. As for the 256GB model, it’s currently $429, or $50 off its usual $479 price. Buy Apple iPad at Amazon - $299 Engadget deputy editor Nathan Ingraham awarded Apple’s ninth-generation iPad a score of 86 in 2021. The 10.2-inch iPad is a solid entry-level tablet. With the company’s A13 Bionic chip inside, the 2021 model is fast, and you can expect to get about 10 to 14 hours from the battery. The new model also features a much-improved 12-megapixel front-facing camera with Apple’s Center Stage technology. The feature helps keep you in the middle of the frame during video calls.</td>\n",
      "      <td>AAPL,AMZN</td>\n",
      "      <td>https://cloud.iexapis.com/v1/news/image/1kgJZsWpnwC0BHrRQTut7BpfEs9m7JHRWsvNp3GEnZi2</td>\n",
      "      <td>en</td>\n",
      "      <td>False</td>\n",
      "    </tr>\n",
      "    <tr>\n",
      "      <th>3</th>\n",
      "      <td>2022-07-10 14:04:17</td>\n",
      "      <td>Antitrust bill targeting Amazon, Google, Apple may not exit Senate before summer recess</td>\n",
      "      <td>Seeking Alpha</td>\n",
      "      <td>https://cloud.iexapis.com/v1/news/article/KF0R71jLymzvE1b2Itu7V7svXteeqzez5KXqebxpHvx</td>\n",
      "      <td>An antitrust bill that that targets Amazon (AMZN), Google (GOOG) and Apple (AAPL) may not get out of the Senate before Congress recesses for the Summer.The American Innovation and…</td>\n",
      "      <td>AAPL,GOOG,GOOGL,AMZN</td>\n",
      "      <td>https://cloud.iexapis.com/v1/news/image/KF0R71jLymzvE1b2Itu7V7svXteeqzez5KXqebxpHvx</td>\n",
      "      <td>en</td>\n",
      "      <td>False</td>\n",
      "    </tr>\n",
      "  </tbody>\n",
      "</table>\n"
     ]
    }
   ],
   "source": [
    "import pandas as pd\n",
    "df = pd.read_json ('news.json')\n",
    "print(df.to_html())\n"
   ]
  },
  {
   "cell_type": "code",
   "execution_count": null,
   "id": "92340229",
   "metadata": {},
   "outputs": [],
   "source": []
  },
  {
   "cell_type": "code",
   "execution_count": null,
   "id": "d9ad5ef6",
   "metadata": {},
   "outputs": [],
   "source": []
  }
 ],
 "metadata": {
  "kernelspec": {
   "display_name": "Python 3 (ipykernel)",
   "language": "python",
   "name": "python3"
  },
  "language_info": {
   "codemirror_mode": {
    "name": "ipython",
    "version": 3
   },
   "file_extension": ".py",
   "mimetype": "text/x-python",
   "name": "python",
   "nbconvert_exporter": "python",
   "pygments_lexer": "ipython3",
   "version": "3.9.7"
  }
 },
 "nbformat": 4,
 "nbformat_minor": 5
}
